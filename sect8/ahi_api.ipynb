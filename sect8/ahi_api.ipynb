{
 "cells": [
  {
   "cell_type": "code",
   "execution_count": null,
   "metadata": {},
   "outputs": [],
   "source": [
    "import requests\n",
    "import pandas as pd\n",
    "\n",
    "url = \"https://data.austintexas.gov/resource/x5p7-qyuv.json\"\n",
    "\n",
    "r = requests.get(url)\n",
    "\n",
    "r.status_code\n",
    "\n",
    "data = r.json()\n",
    "data[:2]\n",
    "\n",
    "df_original = pd.DataFrame(data)\n",
    "\n",
    "df_original.head()\n",
    "\n",
    "# Get only the data I want\n",
    "# project_id is unqiue and there are no NULLs, so this is the unique identifier for the dataset\n",
    "# total_units and total_affordable_units had two rows with NULLs, so dropped them, but do I need these columns?\n",
    "\n",
    "df = df_original[[\"austin_housing_inventory_id\", \"project_id\", \"project_name\", \"unit_type\", \"housing_type\", \"program\", \"affordability_start_year\", \"affordability_expiration_year\", \"longitude\", \"latitude\", \"total_units\", \"total_affordable_units\"]]\n",
    "\n",
    "df.head()\n",
    "df.shape\n",
    "\n",
    "# Verify that project_id is unqiue\n",
    "\n",
    "pid_unique = df[\"project_id\"].unique()\n",
    "pid_unique.shape\n",
    "\n",
    "# Drop rows missing data\n",
    "\n",
    "df = df.dropna(how = \"any\")\n",
    "\n",
    "df.shape\n",
    "\n",
    "df.head()\n",
    "\n",
    "# Date data clean up\n",
    "\n",
    "# Convert the dates to be date datatype\n",
    "df[\"affordability_start_year\"] = pd.to_datetime(df[\"affordability_start_year\"])\n",
    "df[\"affordability_start_year\"]\n",
    "\n",
    "# # Get only the dates 2014-2019\n",
    "df = df[df[\"affordability_start_year\"] >= \"01-01-2014\"]\n",
    "df"
   ]
  },
  {
   "cell_type": "code",
   "execution_count": null,
   "metadata": {},
   "outputs": [],
   "source": []
  }
 ],
 "metadata": {
  "environment": {
   "name": "common-cpu.m54",
   "type": "gcloud",
   "uri": "gcr.io/deeplearning-platform-release/base-cpu:m54"
  },
  "kernelspec": {
   "display_name": "Python 3",
   "language": "python",
   "name": "python3"
  },
  "language_info": {
   "codemirror_mode": {
    "name": "ipython",
    "version": 3
   },
   "file_extension": ".py",
   "mimetype": "text/x-python",
   "name": "python",
   "nbconvert_exporter": "python",
   "pygments_lexer": "ipython3",
   "version": "3.7.8"
  }
 },
 "nbformat": 4,
 "nbformat_minor": 4
}
