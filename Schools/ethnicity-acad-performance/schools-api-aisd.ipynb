{
 "cells": [
  {
   "cell_type": "code",
   "execution_count": null,
   "metadata": {},
   "outputs": [],
   "source": [
    "# GEOLOCATION DATA / SCHOOL CAMPUS APIs for AISD\n",
    "\n",
    "# Dependencies and setup.\n",
    "import os\n",
    "import csv\n",
    "import pandas as pd\n",
    "\n",
    "# Import ethnicity data.\n",
    "path_ethnicity = os.path.join(\"Output_ethnicity_5yrs_clean_Travis.csv\")\n",
    "path_geoloc = os.path.join(\"schools_geolocation_aisd_edited.csv\")\n",
    "\n",
    "# Convert ethnicity data to pandas data frame.\n",
    "df_ethnicity = pd.read_csv(path_ethnicity)\n",
    "df_geoloc = pd.read_csv(path_geoloc)"
   ]
  },
  {
   "cell_type": "code",
   "execution_count": null,
   "metadata": {},
   "outputs": [],
   "source": [
    "df_geoloc"
   ]
  },
  {
   "cell_type": "code",
   "execution_count": null,
   "metadata": {},
   "outputs": [],
   "source": [
    "df_geoloc[\"Campus_Number\"] = \"\"\n",
    "df_geoloc = df_geoloc[[\"Campus_Name\", \"Campus_Number\", \"Lat\", \"Lng\", \"Address\", \"Zipcode\"]]\n",
    "df_geoloc.set_index(\"Campus_Name\")"
   ]
  },
  {
   "cell_type": "code",
   "execution_count": null,
   "metadata": {},
   "outputs": [],
   "source": [
    "# Create dictionary of Campus Name and Campus Number from ethnicity dataset.\n",
    "campus_dict = df_ethnicity.set_index([\"Campus_Name\"])[\"Campus_Number\"].to_dict()\n",
    "campus_dict"
   ]
  },
  {
   "cell_type": "code",
   "execution_count": null,
   "metadata": {},
   "outputs": [],
   "source": [
    "# Add Campus Number column to geolocation dataframe.\n",
    "df_geoloc[\"Campus_Number\"] = df_geoloc[\"Campus_Name\"].map(campus_dict)\n",
    "df_geoloc_campnum = df_geoloc\n",
    "df_geoloc_campnum"
   ]
  },
  {
   "cell_type": "code",
   "execution_count": null,
   "metadata": {},
   "outputs": [],
   "source": [
    "# Output to a CSV file the final dataframe for AISD school location APIs.\n",
    "\n",
    "df_geoloc_campnum.to_csv(\"Output_schools_geolocation_aisd_edited.csv\", index=False)"
   ]
  }
 ],
 "metadata": {
  "environment": {
   "name": "common-cpu.m56",
   "type": "gcloud",
   "uri": "gcr.io/deeplearning-platform-release/base-cpu:m56"
  },
  "kernelspec": {
   "display_name": "Python 3",
   "language": "python",
   "name": "python3"
  },
  "language_info": {
   "codemirror_mode": {
    "name": "ipython",
    "version": 3
   },
   "file_extension": ".py",
   "mimetype": "text/x-python",
   "name": "python",
   "nbconvert_exporter": "python",
   "pygments_lexer": "ipython3",
   "version": "3.7.8"
  }
 },
 "nbformat": 4,
 "nbformat_minor": 4
}
